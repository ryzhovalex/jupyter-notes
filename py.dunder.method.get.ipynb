{
 "cells": [
  {
   "cell_type": "code",
   "execution_count": 6,
   "id": "9e5174e4",
   "metadata": {},
   "outputs": [],
   "source": [
    "class B:\n",
    "    def __get__(self, instance, owner=None):\n",
    "        print(f\"{instance=}\")\n",
    "        print(f\"{owner=}\")\n",
    "        return 10\n",
    "    \n",
    "class A:\n",
    "    b = B()\n",
    "    \n",
    "a = A()"
   ]
  },
  {
   "cell_type": "code",
   "execution_count": 7,
   "id": "d8d25b94",
   "metadata": {},
   "outputs": [
    {
     "name": "stdout",
     "output_type": "stream",
     "text": [
      "instance=<__main__.A object at 0x7fac94575e10>\n",
      "owner=<class '__main__.A'>\n"
     ]
    },
    {
     "data": {
      "text/plain": [
       "10"
      ]
     },
     "execution_count": 7,
     "metadata": {},
     "output_type": "execute_result"
    }
   ],
   "source": [
    "a.b"
   ]
  },
  {
   "cell_type": "code",
   "execution_count": 8,
   "id": "b179cd33",
   "metadata": {},
   "outputs": [
    {
     "name": "stdout",
     "output_type": "stream",
     "text": [
      "instance=None\n",
      "owner=<class '__main__.A'>\n"
     ]
    },
    {
     "data": {
      "text/plain": [
       "10"
      ]
     },
     "execution_count": 8,
     "metadata": {},
     "output_type": "execute_result"
    }
   ],
   "source": [
    "A.b"
   ]
  },
  {
   "cell_type": "code",
   "execution_count": null,
   "id": "4b9fc21f",
   "metadata": {},
   "outputs": [],
   "source": []
  }
 ],
 "metadata": {
  "kernelspec": {
   "display_name": "Python 3 (ipykernel)",
   "language": "python",
   "name": "python3"
  },
  "language_info": {
   "codemirror_mode": {
    "name": "ipython",
    "version": 3
   },
   "file_extension": ".py",
   "mimetype": "text/x-python",
   "name": "python",
   "nbconvert_exporter": "python",
   "pygments_lexer": "ipython3",
   "version": "3.10.4"
  }
 },
 "nbformat": 4,
 "nbformat_minor": 5
}
