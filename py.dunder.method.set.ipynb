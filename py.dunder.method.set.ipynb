{
 "cells": [
  {
   "cell_type": "code",
   "execution_count": 39,
   "id": "afecdfc1",
   "metadata": {},
   "outputs": [],
   "source": [
    "class B:\n",
    "    def __set__(self, instance, value):\n",
    "        print(f\"{instance=}\")\n",
    "        print(f\"{value=}\")\n",
    "        instance.age += value\n",
    "        \n",
    "class A:\n",
    "    b = B()\n",
    "    \n",
    "    def __init__(self, age):\n",
    "        self.age = age\n",
    "    \n",
    "a = A(age=1)"
   ]
  },
  {
   "cell_type": "code",
   "execution_count": 33,
   "id": "1f0a249c",
   "metadata": {},
   "outputs": [
    {
     "name": "stdout",
     "output_type": "stream",
     "text": [
      "instance=<__main__.A object at 0x7f832074d2a0>\n",
      "value=10\n"
     ]
    },
    {
     "data": {
      "text/plain": [
       "11"
      ]
     },
     "execution_count": 33,
     "metadata": {},
     "output_type": "execute_result"
    }
   ],
   "source": [
    "a.b = 10\n",
    "a.age"
   ]
  },
  {
   "cell_type": "code",
   "execution_count": 40,
   "id": "4647e648",
   "metadata": {},
   "outputs": [
    {
     "data": {
      "text/plain": [
       "1"
      ]
     },
     "execution_count": 40,
     "metadata": {},
     "output_type": "execute_result"
    }
   ],
   "source": [
    "# Freezing behaviour?\n",
    "A.b = 5\n",
    "a.age"
   ]
  },
  {
   "cell_type": "code",
   "execution_count": 41,
   "id": "4f2eb91d",
   "metadata": {},
   "outputs": [
    {
     "data": {
      "text/plain": [
       "1"
      ]
     },
     "execution_count": 41,
     "metadata": {},
     "output_type": "execute_result"
    }
   ],
   "source": [
    "# Don't add anymore!\n",
    "a.b = 2\n",
    "a.age"
   ]
  },
  {
   "cell_type": "code",
   "execution_count": null,
   "id": "a9746535",
   "metadata": {},
   "outputs": [],
   "source": []
  }
 ],
 "metadata": {
  "kernelspec": {
   "display_name": "Python 3 (ipykernel)",
   "language": "python",
   "name": "python3"
  },
  "language_info": {
   "codemirror_mode": {
    "name": "ipython",
    "version": 3
   },
   "file_extension": ".py",
   "mimetype": "text/x-python",
   "name": "python",
   "nbconvert_exporter": "python",
   "pygments_lexer": "ipython3",
   "version": "3.10.4"
  }
 },
 "nbformat": 4,
 "nbformat_minor": 5
}
