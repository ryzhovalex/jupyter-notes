{
 "cells": [
  {
   "cell_type": "code",
   "execution_count": 1,
   "id": "fbc10005",
   "metadata": {},
   "outputs": [],
   "source": [
    "class Test:\n",
    "    def __del__(self):\n",
    "        raise TypeError()"
   ]
  },
  {
   "cell_type": "code",
   "execution_count": 2,
   "id": "8122cec3",
   "metadata": {},
   "outputs": [
    {
     "name": "stderr",
     "output_type": "stream",
     "text": [
      "Exception ignored in: <function Test.__del__ at 0x7f2de80ce680>\n",
      "Traceback (most recent call last):\n",
      "  File \"/tmp/ipykernel_30905/3671008940.py\", line 3, in __del__\n",
      "TypeError: \n"
     ]
    }
   ],
   "source": [
    "t = Test()\n",
    "\n",
    "del t"
   ]
  },
  {
   "cell_type": "code",
   "execution_count": null,
   "id": "6aabea1a",
   "metadata": {},
   "outputs": [],
   "source": []
  }
 ],
 "metadata": {
  "kernelspec": {
   "display_name": "Python 3 (ipykernel)",
   "language": "python",
   "name": "python3"
  },
  "language_info": {
   "codemirror_mode": {
    "name": "ipython",
    "version": 3
   },
   "file_extension": ".py",
   "mimetype": "text/x-python",
   "name": "python",
   "nbconvert_exporter": "python",
   "pygments_lexer": "ipython3",
   "version": "3.10.4"
  }
 },
 "nbformat": 4,
 "nbformat_minor": 5
}
