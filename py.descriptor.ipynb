{
 "cells": [
  {
   "cell_type": "code",
   "execution_count": 45,
   "id": "3edbb064",
   "metadata": {},
   "outputs": [],
   "source": [
    "class A:\n",
    "    MIRINDA = 2\n",
    "    COCA_COLA = 32\n",
    "    \n",
    "    def __init__(self, name, value):\n",
    "        self.name = name\n",
    "        self.value = value\n",
    "    \n",
    "    def __get__(self, instance, owner=None):\n",
    "        print(\"hello\", instance, owner)\n",
    "        return \"highest in the room\"\n",
    "    \n",
    "class B:\n",
    "    MIRINDA = 3\n",
    "    a = A(\"Sam\", 1337)\n",
    "    \n",
    "b = B()"
   ]
  },
  {
   "cell_type": "code",
   "execution_count": 46,
   "id": "dc3d02a0",
   "metadata": {},
   "outputs": [
    {
     "data": {
      "text/plain": [
       "<__main__.A at 0x7f4c904de590>"
      ]
     },
     "execution_count": 46,
     "metadata": {},
     "output_type": "execute_result"
    }
   ],
   "source": [
    "a"
   ]
  },
  {
   "cell_type": "code",
   "execution_count": 47,
   "id": "5ecece48",
   "metadata": {},
   "outputs": [
    {
     "name": "stdout",
     "output_type": "stream",
     "text": [
      "hello <__main__.B object at 0x7f4c906fe1a0> <class '__main__.B'>\n"
     ]
    },
    {
     "data": {
      "text/plain": [
       "'highest in the room'"
      ]
     },
     "execution_count": 47,
     "metadata": {},
     "output_type": "execute_result"
    }
   ],
   "source": [
    "b.a"
   ]
  },
  {
   "cell_type": "code",
   "execution_count": 48,
   "id": "cf6a6450",
   "metadata": {},
   "outputs": [
    {
     "data": {
      "text/plain": [
       "__main__.A"
      ]
     },
     "execution_count": 48,
     "metadata": {},
     "output_type": "execute_result"
    }
   ],
   "source": [
    "A"
   ]
  },
  {
   "cell_type": "code",
   "execution_count": 49,
   "id": "0f987e8c",
   "metadata": {},
   "outputs": [
    {
     "name": "stdout",
     "output_type": "stream",
     "text": [
      "hello None <class '__main__.B'>\n"
     ]
    },
    {
     "data": {
      "text/plain": [
       "'highest in the room'"
      ]
     },
     "execution_count": 49,
     "metadata": {},
     "output_type": "execute_result"
    }
   ],
   "source": [
    "B.a"
   ]
  },
  {
   "cell_type": "code",
   "execution_count": null,
   "id": "20f87c9f",
   "metadata": {},
   "outputs": [],
   "source": []
  }
 ],
 "metadata": {
  "kernelspec": {
   "display_name": "Python 3 (ipykernel)",
   "language": "python",
   "name": "python3"
  },
  "language_info": {
   "codemirror_mode": {
    "name": "ipython",
    "version": 3
   },
   "file_extension": ".py",
   "mimetype": "text/x-python",
   "name": "python",
   "nbconvert_exporter": "python",
   "pygments_lexer": "ipython3",
   "version": "3.10.4"
  }
 },
 "nbformat": 4,
 "nbformat_minor": 5
}
