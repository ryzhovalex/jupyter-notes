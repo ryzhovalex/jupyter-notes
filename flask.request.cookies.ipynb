{
 "cells": [
  {
   "cell_type": "code",
   "execution_count": 3,
   "id": "ecde8c4e",
   "metadata": {},
   "outputs": [
    {
     "name": "stdout",
     "output_type": "stream",
     "text": [
      " * Serving Flask app '__main__' (lazy loading)\n",
      " * Environment: production\n",
      "\u001b[31m   WARNING: This is a development server. Do not use it in a production deployment.\u001b[0m\n",
      "\u001b[2m   Use a production WSGI server instead.\u001b[0m\n",
      " * Debug mode: off\n"
     ]
    },
    {
     "name": "stderr",
     "output_type": "stream",
     "text": [
      " * Running on all addresses (0.0.0.0)\n",
      "   WARNING: This is a development server. Do not use it in a production deployment.\n",
      " * Running on http://127.0.0.1:5006\n",
      " * Running on http://192.168.1.126:5006 (Press CTRL+C to quit)\n",
      "192.168.1.125 - - [14/Apr/2022 12:01:24] \"GET / HTTP/1.1\" 200 -\n"
     ]
    },
    {
     "name": "stdout",
     "output_type": "stream",
     "text": [
      "ImmutableMultiDict([])\n"
     ]
    }
   ],
   "source": [
    "from flask import Flask, request\n",
    "\n",
    "def create_app():\n",
    "    app = Flask(__name__)\n",
    "    \n",
    "    @app.route(\"/\")\n",
    "    def home():\n",
    "        print(request.cookies)\n",
    "        return \"\"\n",
    "    \n",
    "    return app\n",
    "\n",
    "create_app().run(host=\"0.0.0.0\", port=\"5006\")"
   ]
  },
  {
   "cell_type": "code",
   "execution_count": null,
   "id": "d43c35c5",
   "metadata": {},
   "outputs": [],
   "source": []
  }
 ],
 "metadata": {
  "kernelspec": {
   "display_name": "Python 3 (ipykernel)",
   "language": "python",
   "name": "python3"
  },
  "language_info": {
   "codemirror_mode": {
    "name": "ipython",
    "version": 3
   },
   "file_extension": ".py",
   "mimetype": "text/x-python",
   "name": "python",
   "nbconvert_exporter": "python",
   "pygments_lexer": "ipython3",
   "version": "3.10.4"
  }
 },
 "nbformat": 4,
 "nbformat_minor": 5
}
