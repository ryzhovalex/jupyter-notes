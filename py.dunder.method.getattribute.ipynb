{
 "cells": [
  {
   "cell_type": "code",
   "execution_count": 1,
   "id": "10f5e2e7",
   "metadata": {},
   "outputs": [],
   "source": [
    "class Test:\n",
    "    def __getattribute__(self, name):\n",
    "        return f\"hello {name}\"\n",
    "\n",
    "a = Test()"
   ]
  },
  {
   "cell_type": "code",
   "execution_count": 2,
   "id": "edcc5079",
   "metadata": {},
   "outputs": [
    {
     "data": {
      "text/plain": [
       "'hello name'"
      ]
     },
     "execution_count": 2,
     "metadata": {},
     "output_type": "execute_result"
    }
   ],
   "source": [
    "a.name"
   ]
  },
  {
   "cell_type": "code",
   "execution_count": 3,
   "id": "a694caea",
   "metadata": {},
   "outputs": [],
   "source": [
    "class Test2:\n",
    "    def __getattribute__(self, name):\n",
    "        raise AttributeError\n",
    "    \n",
    "    def __getattr__(self, name):\n",
    "        return f\"getattr: {name}\"\n",
    "\n",
    "b = Test2()"
   ]
  },
  {
   "cell_type": "code",
   "execution_count": 4,
   "id": "e3f9f532",
   "metadata": {},
   "outputs": [
    {
     "data": {
      "text/plain": [
       "'getattr: name'"
      ]
     },
     "execution_count": 4,
     "metadata": {},
     "output_type": "execute_result"
    }
   ],
   "source": [
    "b.name"
   ]
  },
  {
   "cell_type": "code",
   "execution_count": 9,
   "id": "e19ef279",
   "metadata": {},
   "outputs": [],
   "source": [
    "class C:\n",
    "    def __init__(self, name):\n",
    "        self.name = name\n",
    "        \n",
    "    def __getattribute__(self, name):\n",
    "        return object.__getattribute__(self, name)\n",
    "\n",
    "c = C(\"hehe\")"
   ]
  },
  {
   "cell_type": "code",
   "execution_count": 10,
   "id": "e7ba6b92",
   "metadata": {},
   "outputs": [
    {
     "data": {
      "text/plain": [
       "'hehe'"
      ]
     },
     "execution_count": 10,
     "metadata": {},
     "output_type": "execute_result"
    }
   ],
   "source": [
    "c.name"
   ]
  },
  {
   "cell_type": "code",
   "execution_count": null,
   "id": "404a4789",
   "metadata": {},
   "outputs": [],
   "source": []
  }
 ],
 "metadata": {
  "kernelspec": {
   "display_name": "Python 3 (ipykernel)",
   "language": "python",
   "name": "python3"
  },
  "language_info": {
   "codemirror_mode": {
    "name": "ipython",
    "version": 3
   },
   "file_extension": ".py",
   "mimetype": "text/x-python",
   "name": "python",
   "nbconvert_exporter": "python",
   "pygments_lexer": "ipython3",
   "version": "3.10.4"
  }
 },
 "nbformat": 4,
 "nbformat_minor": 5
}
