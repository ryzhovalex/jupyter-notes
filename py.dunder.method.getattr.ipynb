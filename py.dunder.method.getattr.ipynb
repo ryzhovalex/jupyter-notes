{
 "cells": [
  {
   "cell_type": "code",
   "execution_count": 1,
   "id": "a73e4e98",
   "metadata": {},
   "outputs": [],
   "source": [
    "class Test:\n",
    "    def __getattr__(self, name):\n",
    "        print(f\"hello, {name}\")\n",
    "        return str(name) + \"bum\"\n",
    "    \n",
    "a = Test()"
   ]
  },
  {
   "cell_type": "code",
   "execution_count": 2,
   "id": "d2fc9a9d",
   "metadata": {},
   "outputs": [
    {
     "name": "stdout",
     "output_type": "stream",
     "text": [
      "hello, num\n"
     ]
    },
    {
     "data": {
      "text/plain": [
       "'numbum'"
      ]
     },
     "execution_count": 2,
     "metadata": {},
     "output_type": "execute_result"
    }
   ],
   "source": [
    "a.num"
   ]
  },
  {
   "cell_type": "code",
   "execution_count": null,
   "id": "abdedc98",
   "metadata": {},
   "outputs": [],
   "source": []
  }
 ],
 "metadata": {
  "kernelspec": {
   "display_name": "Python 3 (ipykernel)",
   "language": "python",
   "name": "python3"
  },
  "language_info": {
   "codemirror_mode": {
    "name": "ipython",
    "version": 3
   },
   "file_extension": ".py",
   "mimetype": "text/x-python",
   "name": "python",
   "nbconvert_exporter": "python",
   "pygments_lexer": "ipython3",
   "version": "3.10.4"
  }
 },
 "nbformat": 4,
 "nbformat_minor": 5
}
