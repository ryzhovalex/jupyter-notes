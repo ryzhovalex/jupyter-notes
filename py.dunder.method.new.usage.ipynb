{
 "cells": [
  {
   "cell_type": "code",
   "execution_count": 15,
   "id": "ae908d0e",
   "metadata": {},
   "outputs": [],
   "source": [
    "class SquareNumber:\n",
    "    def __new__(cls, value):\n",
    "        obj = super().__new__(cls)\n",
    "        obj.value = value**2\n",
    "        return obj"
   ]
  },
  {
   "cell_type": "code",
   "execution_count": 17,
   "id": "2145758e",
   "metadata": {},
   "outputs": [
    {
     "data": {
      "text/plain": [
       "{'value': 4}"
      ]
     },
     "execution_count": 17,
     "metadata": {},
     "output_type": "execute_result"
    }
   ],
   "source": [
    "s = SquareNumber(2)\n",
    "s.__dict__"
   ]
  },
  {
   "cell_type": "code",
   "execution_count": null,
   "id": "32784b80",
   "metadata": {},
   "outputs": [],
   "source": []
  }
 ],
 "metadata": {
  "kernelspec": {
   "display_name": "Python 3 (ipykernel)",
   "language": "python",
   "name": "python3"
  },
  "language_info": {
   "codemirror_mode": {
    "name": "ipython",
    "version": 3
   },
   "file_extension": ".py",
   "mimetype": "text/x-python",
   "name": "python",
   "nbconvert_exporter": "python",
   "pygments_lexer": "ipython3",
   "version": "3.10.4"
  }
 },
 "nbformat": 4,
 "nbformat_minor": 5
}
